{
 "cells": [
  {
   "cell_type": "markdown",
   "id": "0b8602ac",
   "metadata": {},
   "source": [
    "# TP 2 : récursivité et conditions\n",
    "\n",
    "Dans tout le TP, il est interdit d'utiliser des boucles (pas de `for` ni `while`).\n",
    "\n",
    "Rappel : pensez à tester toutes vos fonctions sur des exemples."
   ]
  },
  {
   "cell_type": "markdown",
   "id": "483ccb0b",
   "metadata": {},
   "source": [
    "## Petites questions\n",
    "\n",
    "1. Définir une fonction `divise` telle que `divise a b` renvoie `true` si  `a` divise `b`, `false` sinon. Il est interdit d'utiliser `if`.\n",
    "2. Définir une fonction récursive `somme` telle que `somme n` renvoie $\\sum_{k=1}^n k^2$.\n",
    "3. Définir une fonction récursive `u` telle que `u n` renvoie $u_n$ définie par :\n",
    "$$u_0 = 42$$\n",
    "$$u_{n} = 3\\sqrt{u_{n - 1}} + 2$$\n",
    "4. Définir une fonction récursive `v` telle que `v a n` renvoie $v_n$ définie par (on fera attention à n'utiliser qu'un appel récursif) :\n",
    "$$v_0 = a$$\n",
    "$$v_{n + 1} = \\frac{1}{2}(v_n + \\frac{a}{v_n})$$\n",
    "5. Calculer `v a n` pour plusieurs valeurs de `a` et de `n` : que peut-on conjecturer sur la limite de $v_n$ ? Optionnel : le démontrer.  \n",
    "6. Soient $a$ et $b$ deux entiers et $q, r$ le quotient et reste de la division euclidienne de $a$ par $b$ ($a = bq + r$). En utilisant le fait que $PGCD(a, b)$ = $PGCD(b, r)$, écrire une fonction `euclide` telle que `euclide a b` renvoie le PGCD de $a$ et $b$."
   ]
  },
  {
   "cell_type": "code",
   "execution_count": 2,
   "id": "7acaea43-4680-46a5-ba97-29b2edc805ca",
   "metadata": {},
   "outputs": [
    {
     "data": {
      "text/plain": [
       "- : bool * bool = (false, true)\n"
      ]
     },
     "execution_count": 2,
     "metadata": {},
     "output_type": "execute_result"
    }
   ],
   "source": [
    "(* Question 1 *)\n",
    "let divise a b = b mod a = 0 in\n",
    "divise 3 7 ,\n",
    "divise 3 6"
   ]
  },
  {
   "cell_type": "code",
   "execution_count": 1,
   "id": "4787ae7c-7a56-4ae7-8991-945cde7ed9ab",
   "metadata": {},
   "outputs": [
    {
     "data": {
      "text/plain": [
       "- : int * int * int * int * int = (1, 5, 14, 30, 55)\n"
      ]
     },
     "execution_count": 1,
     "metadata": {},
     "output_type": "execute_result"
    }
   ],
   "source": [
    "(* Question 2 *)\n",
    "let somme n = \n",
    "    let rec som n s =\n",
    "        if n < 1 then 0 else som (n-1) s + n*n\n",
    "    in \n",
    "    som n 0\n",
    "in\n",
    "somme 1, somme 2, somme 3, somme 4, somme 5"
   ]
  },
  {
   "cell_type": "code",
   "execution_count": null,
   "id": "0466ddb3-b5a5-446c-8128-62c9c9af3024",
   "metadata": {},
   "outputs": [],
   "source": [
    "(* Question 3 *)\n",
    "let rec u n = \n",
    "    if n < 1 then 42. else 3.*.((u (n-1))**0.5) +. 2.\n",
    "in \n",
    "u 0, u 1, u 2, u 3, u 4"
   ]
  },
  {
   "cell_type": "code",
   "execution_count": 10,
   "id": "718bf0a3-2070-4957-9469-7c19d3996ef3",
   "metadata": {},
   "outputs": [
    {
     "data": {
      "text/plain": [
       "- : float * float * float * float * float * float =\n",
       "(2., 1.5, 1.41666666666666652, 1.41421356237309492, 2., 10.)\n"
      ]
     },
     "execution_count": 10,
     "metadata": {},
     "output_type": "execute_result"
    }
   ],
   "source": [
    "(* Question 4 *)\n",
    "let rec v a n =\n",
    "    if  n = 0 then a else \n",
    "    let temp = v a (n-1) in\n",
    "    0.5*.(temp +. a/.temp)\n",
    "in\n",
    "(* tests *)\n",
    "v 2. 0, v 2. 1, v 2. 2, v 2. 100,\n",
    "v 4. 100, v 100. 100"
   ]
  },
  {
   "cell_type": "markdown",
   "id": "382c4f28-c09f-4951-99af-df7f9d272560",
   "metadata": {},
   "source": [
    "**Question 5 :** On peut conjecturer que la limite de la suite v quand n tend vers l'infini est $\\sqrt{a}$."
   ]
  },
  {
   "cell_type": "code",
   "execution_count": 11,
   "id": "be80211f-fb6c-4b85-b667-c279de3d29e6",
   "metadata": {},
   "outputs": [
    {
     "data": {
      "text/plain": [
       "- : int = 3\n"
      ]
     },
     "execution_count": 11,
     "metadata": {},
     "output_type": "execute_result"
    }
   ],
   "source": [
    "(* Question 6 *)\n",
    "let rec euclide a b = \n",
    "    let r = a mod b in\n",
    "    if r = 0 then b else euclide b r\n",
    "in euclide 129 30"
   ]
  },
  {
   "cell_type": "markdown",
   "id": "f9323ab0",
   "metadata": {},
   "source": [
    "## Exponentiation rapide\n",
    "\n",
    "1. Écrire une fonction récursive `puissance` naïve (c'est à dire très simple) telle que `puissance a n` renvoie $a^n$. Combien effectue t-elle de multiplications (en fonction de n) ?\n",
    "2. Écrire une fonction récursive `exp_rapide` pour calculer $a^n$, en utilisant les relations suivantes :\n",
    "$$ \n",
    "\\begin{cases} \n",
    "a^n = (a^{\\frac{n}{2}})^2 ~~~~~~~~~\\text{si }n\\text{ est pair}\\\\\n",
    "a^{n} = a \\times (a^{\\frac{n-1}{2}})^2 ~~~~~\\text{sinon}\n",
    "\\end{cases}\n",
    "$$\n",
    "**Attention** : pour mettre au carré, utiliser une variable plutôt que faire 2 appels récursifs, ce qui augmenterait beaucoup le nombre d'opérations.  \n",
    "**Remarque** : On montrera plus tard que cette 2ème version demande de l'ordre de $\\ln(n)$ multiplications seulement."
   ]
  },
  {
   "cell_type": "code",
   "execution_count": 14,
   "id": "ca760ae4-bfaf-4a59-a485-6c48929c9af6",
   "metadata": {},
   "outputs": [
    {
     "data": {
      "text/plain": [
       "- : int * int = (81, 152587890625)\n"
      ]
     },
     "execution_count": 14,
     "metadata": {},
     "output_type": "execute_result"
    }
   ],
   "source": [
    "(* Question 1 : *)\n",
    "let rec puissance a n = \n",
    "    if n < 1 then 1 else puissance a (n-1) * a\n",
    "in \n",
    "puissance 3 4, puissance 5 16\n",
    "(* Elle effectue n multiplications *)"
   ]
  },
  {
   "cell_type": "code",
   "execution_count": 1,
   "id": "6382fdbd-0f9e-4945-9c72-55740d7dec16",
   "metadata": {},
   "outputs": [
    {
     "data": {
      "text/plain": [
       "- : int * int = (81, 152587890625)\n"
      ]
     },
     "execution_count": 1,
     "metadata": {},
     "output_type": "execute_result"
    }
   ],
   "source": [
    "(* Question 2 *)\n",
    "let rec exp_rapide a n = \n",
    "    if n < 1 then 1\n",
    "    else let racinean = exp_rapide a (n/2) in \n",
    "    if n mod 2 = 0 then racinean*racinean\n",
    "    else racinean*racinean*a\n",
    "in exp_rapide 3 4, exp_rapide 5 16"
   ]
  },
  {
   "cell_type": "markdown",
   "id": "1dba41b0",
   "metadata": {},
   "source": [
    "# Accumulateur\n",
    "\n",
    "On a vu dans le cours sur la récursivité (avec l'exemple de la suite de Fibonacci) qu'un accumulateur est un argument que l'on ajoute à une fonction pour calculer sa valeur de retour.  \n",
    "1. Écrire une fonction `fact` telle que `fact acc n` renvoie `n`!, en utilisant `acc` comme accumulateur. Voici à quoi va ressemble `fact` :\n",
    "```ocaml\n",
    "let rec fact acc n =\n",
    "    if n = 0 then acc  (* on renvoie l'accumulateur qui contient le résultat *)\n",
    "    else fact ... (* appel récursif en modifiant l'accumulateur *)\n",
    "```\n",
    "2. En utilisant `fact` et l'application partielle de fonction, définir `f : int -> int` renvoyant la factoielle d'un entier.\n",
    "\n",
    "**Remarque** : le but ici est juste de vous entraîner à savoir utiliser un accumulateur, qui sont parfois utiles (comme pour la fonction `fibo` du cours). En DS ou concours on évitera d'utiliser un accumulateur lorsqu'il y en a pas besoin (comme pour la fonction `fact`...), car cela rend le code plus compliqué.  "
   ]
  },
  {
   "cell_type": "code",
   "execution_count": 2,
   "id": "4a1ae990-af2d-48b1-91e1-f8eeb2f46ceb",
   "metadata": {},
   "outputs": [
    {
     "data": {
      "text/plain": [
       "- : int * int = (120, 720)\n"
      ]
     },
     "execution_count": 2,
     "metadata": {},
     "output_type": "execute_result"
    }
   ],
   "source": [
    "let f n = \n",
    "    let rec fact acc n = \n",
    "        if n = 0 then acc\n",
    "        else fact (acc*n) (n-1)\n",
    "    in\n",
    "    fact 1 n\n",
    "in f 5, f 6"
   ]
  },
  {
   "cell_type": "markdown",
   "id": "3ce1d3dc",
   "metadata": {},
   "source": [
    "## Temps de vol de la suite de Syracuse\n",
    "\n",
    "La suite de Syracuse d'un entier $a$ est définie par :  \n",
    "$$u_0 = a$$\n",
    "$$u_{n+1} =\n",
    "\\begin{cases} \n",
    "     \\frac{u_n}{2}, \\text{si } u_n \\text{ est pair}\\\\\n",
    "    3u_n + 1, \\text{sinon}\\\\\n",
    "\\end{cases}$$\n",
    "\n",
    "Le temps de vol de $(u_n)_n$ est le plus petit entier $t$ tel que $u_t = 1$.  \n",
    "\n",
    "1. Écrire une fonction récursive `temps_vol` telle que `temps_vol a` renvoie le temps de vol de $(u_n)_n$ (où $u_0 = a$)."
   ]
  },
  {
   "cell_type": "code",
   "execution_count": 3,
   "id": "a523f3f5-64c9-4c71-96ec-5998725d5a6f",
   "metadata": {},
   "outputs": [
    {
     "data": {
      "text/plain": [
       "- : int * int * int = (0, 29, 7)\n"
      ]
     },
     "execution_count": 3,
     "metadata": {},
     "output_type": "execute_result"
    }
   ],
   "source": [
    "let rec temps_vol a =\n",
    "    if a <= 1 then 0 \n",
    "    else if a mod 2 = 0 then temps_vol (a/2) + 1\n",
    "    else temps_vol (3*a+1) + 1\n",
    "in temps_vol 1,\n",
    "temps_vol 43,\n",
    "temps_vol 3"
   ]
  },
  {
   "cell_type": "markdown",
   "id": "da47237d",
   "metadata": {},
   "source": [
    "## Fonction mystérieuse\n",
    "\n",
    "Tester la fonction suivante pour des $n$ entre $0$ et $100$, conjecturer un théorème et prouvez-le par récurrence."
   ]
  },
  {
   "cell_type": "code",
   "execution_count": 1,
   "id": "1c7692d4",
   "metadata": {
    "execution": {
     "iopub.execute_input": "2021-09-16T14:04:22.236899Z",
     "iopub.status.busy": "2021-09-16T14:04:22.236336Z",
     "iopub.status.idle": "2021-09-16T14:04:22.239838Z",
     "shell.execute_reply": "2021-09-16T14:04:22.240266Z"
    }
   },
   "outputs": [
    {
     "data": {
      "text/plain": [
       "val f : int -> int = <fun>\n"
      ]
     },
     "execution_count": 1,
     "metadata": {},
     "output_type": "execute_result"
    }
   ],
   "source": [
    "let rec f n =\n",
    "    if n > 100 then n - 10 \n",
    "    else f (f (n + 11)) ;;"
   ]
  },
  {
   "cell_type": "markdown",
   "id": "0c807842-eede-40f3-a315-cc73915ace0c",
   "metadata": {},
   "source": [
    "91."
   ]
  },
  {
   "cell_type": "markdown",
   "id": "256f5cdb",
   "metadata": {},
   "source": [
    "## Fonctions mutuellement récursives\n",
    "\n",
    "Il est possible de définir simultanément deux fonctions `f` et `g`, dépendant l'une de l'autre avec `and` :\n",
    "```ocaml\n",
    "let rec f x = ... and g y = ... in ...\n",
    "```\n",
    "\n",
    "Écrire deux fonctions `u` et `v` permettant de calculer le $n$ième terme des suites définies par :\n",
    "$$u_0 = 2$$\n",
    "$$v_0 = 3$$\n",
    "$$u_{n + 1} = u_n - u_n v_n$$\n",
    "$$v_{n + 1} = v_n + u_n v_n$$"
   ]
  },
  {
   "cell_type": "code",
   "execution_count": 4,
   "id": "c700c3bc-0688-4545-b1e9-b5c80a415cc2",
   "metadata": {},
   "outputs": [
    {
     "data": {
      "text/plain": [
       "- : int * int * int * int * int * int * int * int =\n",
       "(3, 2, 9, -4, -27, 32, -891, 896)\n"
      ]
     },
     "execution_count": 4,
     "metadata": {},
     "output_type": "execute_result"
    }
   ],
   "source": [
    "let rec u n  = \n",
    "    if n = 0 then 2\n",
    "    else let temp = u (n-1) in\n",
    "    temp - temp*(v (n-1))\n",
    "and v n = \n",
    "    if n = 0 then 3\n",
    "    else let temp = v (n-1) in\n",
    "    temp + temp*(u (n-1))\n",
    "in \n",
    "v 0, u 0,\n",
    "v 1, u 1,\n",
    "v 2, u 2,\n",
    "v 3, u 3"
   ]
  },
  {
   "cell_type": "markdown",
   "id": "633fff0c",
   "metadata": {},
   "source": [
    "## Retour sur les tours de Hanoi\n",
    "\n",
    "**Remarque** : le problème des tours de Hanoi a déjà été vu en stage, mais on le refait ici en OCaml. En outre, il est utile de réactiver sa mémoire pour se souvenir des méthodes et il m'arrivera pendant l'année de redonner des exercices déjà posés."
   ]
  },
  {
   "cell_type": "markdown",
   "id": "b3da91d9",
   "metadata": {},
   "source": [
    "![](../img/hanoi.png)\n",
    "\n",
    "$n$ disques sont posés sur la tige à gauche. L'objectif est de déplacer tous les disques sur la tige à droite :\n",
    "\n",
    "![](../img/hanoi2.png)\n",
    "\n",
    "Règles du jeu :\n",
    "\n",
    "- On ne peut déplacer qu'un disque à la fois (celui tout en haut), sur une autre tige.\n",
    "- Il est interdit de poser un disque sur un autre plus petit.\n",
    "\n",
    "Exemple de premier déplacement valide :\n",
    "\n",
    "![](../img/hanoi3.png)\n",
    "\n",
    "On souhaite écrire une fonction récursive `hanoi` telle que `hanoi n tige1 tige2` affiche une suite de déplacements (avec des `print_int`) permettant de déplacer $n$ disques depuis `tige1` vers `tige2`. On supposera que les tiges sont numérotées 0, 1, 2 (de gauche à droite).\n",
    "\n",
    "1. Supposons que vous sachiez déplacer $n-1$ disques d'une tige à une autre. Comment déplacer $n$ disques d'une tige à une autre ?\n",
    "2. Écrire `hanoi`."
   ]
  },
  {
   "cell_type": "code",
   "execution_count": 17,
   "id": "c4041b09-81c4-4f0b-917b-501618f753d4",
   "metadata": {},
   "outputs": [
    {
     "name": "stdout",
     "output_type": "stream",
     "text": [
      "01\n",
      "02\n",
      "12\n",
      "01\n",
      "20\n",
      "21\n",
      "01\n"
     ]
    },
    {
     "data": {
      "text/plain": [
       "- : unit = ()\n"
      ]
     },
     "execution_count": 17,
     "metadata": {},
     "output_type": "execute_result"
    }
   ],
   "source": [
    "let rec hanoi n tige1 tige2 = \n",
    "    if n <> 0 then\n",
    "        (let tige3 = 3 - tige1 - tige2 in\n",
    "        hanoi (n-1) tige1 tige3 ;\n",
    "        print_int tige1;\n",
    "        print_int tige2;\n",
    "        print_newline () ;\n",
    "        hanoi (n-1) tige3 tige2;\n",
    "        ())\n",
    "in\n",
    "hanoi 5 0 1"
   ]
  }
 ],
 "metadata": {
  "kernelspec": {
   "display_name": "OCaml default",
   "language": "OCaml",
   "name": "ocaml-jupyter"
  },
  "language_info": {
   "codemirror_mode": "text/x-ocaml",
   "file_extension": ".ml",
   "mimetype": "text/x-ocaml",
   "name": "OCaml",
   "nbconverter_exporter": null,
   "pygments_lexer": "OCaml",
   "version": "4.08.1"
  }
 },
 "nbformat": 4,
 "nbformat_minor": 5
}
