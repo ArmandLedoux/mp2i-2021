{
 "cells": [
  {
   "cell_type": "markdown",
   "metadata": {},
   "source": [
    "# TP 5 : Tableaux et Complexité"
   ]
  },
  {
   "cell_type": "markdown",
   "metadata": {},
   "source": [
    "## Petites questions\n",
    "\n",
    "1. Écrire une fonction `somme` pour calculer la somme des éléments d'un tableau d'entiers.  \n",
    "2. Écrire une fonction `maximum` pour calculer le maximum d'un tableau d'entiers. On pourra utiliser la fonction `max` renvoyant le maximum de 2 nombres.  \n",
    "3. Écrire une fonction `list_of_array` transformant un tableau en liste.  \n",
    "4. Tester si un tableau est trié par ordre croissant."
   ]
  },
  {
   "cell_type": "code",
   "execution_count": 1,
   "metadata": {},
   "outputs": [
    {
     "data": {
      "text/plain": [
       "- : int = 9\n"
      ]
     },
     "execution_count": 1,
     "metadata": {},
     "output_type": "execute_result"
    }
   ],
   "source": [
    "let somme t = \n",
    "    let s = ref 0 in\n",
    "    for i=0 to (Array.length t)-1 do\n",
    "    s := !s + t.(i) done ;\n",
    "    !s\n",
    "in \n",
    "somme [|1;3;5|]"
   ]
  },
  {
   "cell_type": "code",
   "execution_count": 2,
   "metadata": {},
   "outputs": [
    {
     "data": {
      "text/plain": [
       "val maximum : int array -> int = <fun>\n"
      ]
     },
     "execution_count": 2,
     "metadata": {},
     "output_type": "execute_result"
    },
    {
     "data": {
      "text/plain": [
       "- : int * int = (-4611686018427387904, 8)\n"
      ]
     },
     "execution_count": 2,
     "metadata": {},
     "output_type": "execute_result"
    }
   ],
   "source": [
    "let maximum t = \n",
    "    let m = ref min_int in\n",
    "    for i=0 to (Array.length t)-1 do\n",
    "    m := max !m  t.(i) done ;\n",
    "    !m\n",
    ";; \n",
    "maximum [||],\n",
    "maximum [|1; -2; 6; -3; 2; 4; -11; 2; 8;-10; 7|]"
   ]
  },
  {
   "cell_type": "code",
   "execution_count": 3,
   "metadata": {},
   "outputs": [
    {
     "data": {
      "text/plain": [
       "- : int list = [1; 3; 5]\n"
      ]
     },
     "execution_count": 3,
     "metadata": {},
     "output_type": "execute_result"
    }
   ],
   "source": [
    "let list_of_array t = \n",
    "    let l = ref [] in\n",
    "    for i = (Array.length t)-1 downto 0 do\n",
    "        l := t.(i)::!l \n",
    "    done ;\n",
    "    !l\n",
    "in\n",
    "list_of_array [|1;3;5|]"
   ]
  },
  {
   "cell_type": "code",
   "execution_count": 21,
   "metadata": {},
   "outputs": [
    {
     "data": {
      "text/plain": [
       "- : bool * bool = (false, true)\n"
      ]
     },
     "execution_count": 21,
     "metadata": {},
     "output_type": "execute_result"
    }
   ],
   "source": [
    "let croissante t = \n",
    "    let croiss = ref true in\n",
    "    for i=0 to Array.length t - 2 do\n",
    "        if t.(i) > t.(i+1) then\n",
    "        croiss := false\n",
    "    done ;\n",
    "    !croiss\n",
    "in\n",
    "croissante [|1;3;5;3|],\n",
    "croissante [|1;3;3;5|]"
   ]
  },
  {
   "cell_type": "markdown",
   "metadata": {},
   "source": [
    "## Maximum local dans un tableau\n",
    "\n",
    "Un maximum local dans un tableau `t` est un indice `i` tel que `t.(i) >= t.(i+1)` et `t.(i) >= t.(i-1)`. Pour les extrémités, qu'une seule de ces conditions doit être vérifiée (si `t.(i-1)` ou `t.(i+1)` n'existe pas).  \n",
    "1. Montrer qu'il existe forcément un minimum local dans `t`.  \n",
    "2. Écrire une fonction `max_local1` trouvant un maximum local dans un tableau en regardant chaque élément un par un (recherche séquentielle). Quelle est sa complexité ?  \n",
    "3. Ecrire une fonction `max_local2` faisant la même chose mais avec une méthode par dichotomie (en divisant par 2 la taille du problème à chaque itération), pour avoir une complexité logarithmique.  \n",
    "*Aide* : soit `t.(m)` le milieu du tableau. Que peut-on dire si `t.(m) < t.(m+1)` ? Si `t.(m) < t.(m-1)` ?"
   ]
  },
  {
   "cell_type": "markdown",
   "metadata": {},
   "source": [
    "A partir du moment où le tableau n'est pas vide, il a un maximum global, qui est donc également local"
   ]
  },
  {
   "cell_type": "code",
   "execution_count": 5,
   "metadata": {},
   "outputs": [
    {
     "data": {
      "text/plain": [
       "- : int * int * int = (2, 0, 3)\n"
      ]
     },
     "execution_count": 5,
     "metadata": {},
     "output_type": "execute_result"
    }
   ],
   "source": [
    "(*2*)\n",
    "let max_local1 t =\n",
    "    let n = Array.length t in\n",
    "    let m = ref  (-1) in\n",
    "    if n > 1 then\n",
    "        if t.(0) >= t.(1) then m := 0\n",
    "        else if t.(n-2) <= t.(n-1) then m := n-1\n",
    "        else for i=1 to n-2 do\n",
    "            if t.(i-1) <= t.(i) && t.(i) >= t.(i+1) then\n",
    "            m := i\n",
    "        done\n",
    "    else if n = 1 then m := 1 ;\n",
    "    !m\n",
    "in\n",
    "max_local1 [|1;3;5;3|],\n",
    "max_local1 [|5;3;5;6|],\n",
    "max_local1 [|1;3;5;6|]"
   ]
  },
  {
   "cell_type": "code",
   "execution_count": 6,
   "metadata": {},
   "outputs": [
    {
     "data": {
      "text/plain": [
       "- : int * int * int = (2, 0, 3)\n"
      ]
     },
     "execution_count": 6,
     "metadata": {},
     "output_type": "execute_result"
    }
   ],
   "source": [
    "(*3*)\n",
    "let max_local2 t =\n",
    "    let n = Array.length t in\n",
    "    if n <= 1 then \n",
    "        if n = 0 then min_int else 0\n",
    "    else if t.(0) >= t.(1) then 0\n",
    "    else if t.(n-1) >= t.(n-2) then n-1\n",
    "    else\n",
    "        let rec dicho i j =\n",
    "            let m = (i+j)/2 in\n",
    "            if t.(m) <= t.(m-1) then dicho i (m-1)\n",
    "            else if t.(m) <= t.(m-1) then dicho (m+1) j\n",
    "            else m\n",
    "        in\n",
    "        dicho 0 n\n",
    "in\n",
    "max_local2 [|1;3;5;3|],\n",
    "max_local2 [|5;3;5;6|],\n",
    "max_local2 [|1;3;5;6|]"
   ]
  },
  {
   "cell_type": "markdown",
   "metadata": {},
   "source": [
    "## Tri par comptage\n",
    "\n",
    "Écrire une fonction `tri_comptage : ’a array -> unit` qui trie un tableau `t` de taille $n$ dont les entrées sont des entiers entre 0\n",
    "et $M$ (où $M$ est le maximum de `t`), en complexité O($n + M$).  \n",
    "Pour cela :  \n",
    "- Créer un autre tableau `compte` de taille $M + 1$ (avec `Array.make`), initialement rempli de 0\n",
    "- Remplir `compte` pour que `compte.(i)` contienne le nombre d'apparitions de `i` dans `t`\n",
    "- Recopier les éléments de `compte` dans `t` dans l'ordre croissant pour obtenir un tableau trié"
   ]
  },
  {
   "cell_type": "code",
   "execution_count": 7,
   "metadata": {},
   "outputs": [
    {
     "data": {
      "text/plain": [
       "- : int array = [|0; 1; 2; 3; 3; 5; 6; 6|]\n"
      ]
     },
     "execution_count": 7,
     "metadata": {},
     "output_type": "execute_result"
    }
   ],
   "source": [
    "let tri_comptage t = \n",
    "    let m = maximum t in\n",
    "    let compte = Array.make (m+1) 0 in\n",
    "    for i=0 to Array.length t -1 do\n",
    "        compte.(t.(i)) <- compte.(t.(i))+1\n",
    "    done ;\n",
    "    let a = ref 0 in\n",
    "    for i=0 to m do\n",
    "        for j=0 to compte.(i)-1 do\n",
    "            t.(!a) <- i ;\n",
    "            incr a\n",
    "        done ;\n",
    "    done ;\n",
    "in \n",
    "let tableau = [|1;3;5;6;2;6;0;3|] in\n",
    "tri_comptage tableau ; tableau"
   ]
  },
  {
   "cell_type": "markdown",
   "metadata": {},
   "source": [
    "## Tranche maximum\r\n",
    "\r\n",
    "Ecrire une fonction `tranche_max : int array -> int` qui renvoie en O($n$) la somme maximum d'éléments consécutifs d'un tableau de taille $n$. Par exemple, `tranche_max [|1; -2; 6; -3; 2; 4; -8; 7|]` doit renvoyer $9$, correspondant aux éléments 6; -3; 2; 4.  \r\n",
    "\r\n",
    "*Indice* : parcourir le tableau `t` avec une boucle for. Stocker 2 variables `m` et `m_cur` telles que, au $i$ème passage dans la boucle for :  \r\n",
    "- `m` contient la somme maximum d'éléments consécutifs parmi les $i$ premiers éléments du tableau\r\n",
    "- `m_cur` contient la somme maximum d'éléments consécutifs finissant en `t.(i)`.  \r\n",
    "Par exemple, lorsque `tranche_max [|1; -2; 6; -3; 2; 4; -8; 7|]` exécute la $3$ème itération de la boucle `for` (c'est à dire que -3 est considéré), `m` contient 6 (correspondant au seul élément 6) et `m_cur` contient 3 (correspondant à 6; -3)."
   ]
  },
  {
   "cell_type": "code",
   "execution_count": 8,
   "metadata": {},
   "outputs": [
    {
     "data": {
      "text/plain": [
       "- : int * int = (10, 11)\n"
      ]
     },
     "execution_count": 8,
     "metadata": {},
     "output_type": "execute_result"
    }
   ],
   "source": [
    "let tranche_max t = \n",
    "    let n = Array.length t in\n",
    "    if n <> 0 then\n",
    "    let m = ref t.(0) in\n",
    "        let m_cur = ref t.(0) in\n",
    "        for i=1 to n-1 do\n",
    "            m_cur := max (!m_cur + t.(i)) (t.(i)) ;\n",
    "            m := max !m_cur !m\n",
    "        done ;\n",
    "        !m\n",
    "    else min_int\n",
    "in\n",
    "tranche_max [|1; -2; 6; -3; 2; 4; -11; 2; 8;-10; 7|],\n",
    "tranche_max [|1; -2; 6; -3; 2; 4; -8; 2; 8;-10; 7|]"
   ]
  },
  {
   "cell_type": "markdown",
   "metadata": {},
   "source": [
    "## Inversions dans un tableau"
   ]
  },
  {
   "cell_type": "markdown",
   "metadata": {},
   "source": [
    "Étant donné un tableau `t`, une inversion de `t` est un couple d'indices $(i, j)$ tels que $i < j$ et `t`.$(i)$ > `t`.$(j)$. Par exemple, `[|4; 1; 5; 2|]` possède 3 inversions: $(0, 1)$, $(0, 3)$ et $(2, 3)$.\n",
    "1. Écrire une fonction `inv` en O($n^2$) déterminant le nombre d'inversions d'un tableau de taille $n$. Justifier que la complexité est bien O$(n^2$).\n",
    "2. Écrire une fonction `inv_triee` telle que, si `t1` et `t2` sont deux tableaux triés par ordre croissant, `inv_triee t1 t2` renvoie le nombre de couples $(i, j)$ tels que `t1.(i) > t2.(j)`. La complexité de `inv_triee` doit être linéaire en le nombre total d'éléments de `t1` et `t2`.\n",
    "3. (Difficile) Écrire une fonction `inv2` telle que, si `t` est un tableau de taille $n$, `inv2 t` renvoie le nombre d'inversions de `t` en complexité O($n\\log(n)$).  \n",
    "On modifiera le tri fusion pour renvoyer le nombre d'inversions en plus de la liste triée."
   ]
  },
  {
   "cell_type": "code",
   "execution_count": 9,
   "metadata": {},
   "outputs": [
    {
     "data": {
      "text/plain": [
       "- : int = 3\n"
      ]
     },
     "execution_count": 9,
     "metadata": {},
     "output_type": "execute_result"
    }
   ],
   "source": [
    "let inv t =\n",
    "    let n = Array.length t in\n",
    "    let inversions = ref 0 in\n",
    "    for i=0 to n-2 do (*O(n²)*)\n",
    "        for j = i+1 to n-1 do (*O(n)*)\n",
    "            if t.(j) > t.(i) then (*O(1)*)\n",
    "                incr inversions\n",
    "        done ;\n",
    "    done ;\n",
    "    !inversions\n",
    "in \n",
    "inv [|4; 1; 5; 2|]"
   ]
  },
  {
   "cell_type": "code",
   "execution_count": 10,
   "metadata": {},
   "outputs": [
    {
     "data": {
      "text/plain": [
       "- : int = 17\n"
      ]
     },
     "execution_count": 10,
     "metadata": {},
     "output_type": "execute_result"
    }
   ],
   "source": [
    "let inv_triee t1 t2 = (*O(n1 + n2)*)\n",
    "    let inversions = ref 0 in \n",
    "    let n1, n2 = Array.length t1, Array.length t2 in\n",
    "    let j = ref 0 in\n",
    "    for i = 0 to n1 - 1 do (*O(n1)*)\n",
    "        inversions := !inversions + !j ;\n",
    "        while !j < n2 && t1.(i) > t2.(!j) do (*O(n2) en plus de la boucle for*)\n",
    "            incr j ;\n",
    "            incr inversions \n",
    "        done ;\n",
    "    done ;\n",
    "    !inversions\n",
    "in\n",
    "inv_triee [|4;7;9|] [|1;2;3;4;5;6;7;8;9|]"
   ]
  }
 ],
 "metadata": {
  "kernelspec": {
   "display_name": "OCaml default",
   "language": "OCaml",
   "name": "ocaml-jupyter"
  },
  "language_info": {
   "codemirror_mode": "text/x-ocaml",
   "file_extension": ".ml",
   "mimetype": "text/x-ocaml",
   "name": "OCaml",
   "nbconverter_exporter": null,
   "pygments_lexer": "OCaml",
   "version": "4.08.1"
  }
 },
 "nbformat": 4,
 "nbformat_minor": 4
}
