{
 "cells": [
  {
   "cell_type": "markdown",
   "id": "4ef1c104",
   "metadata": {},
   "source": [
    "# TP1 : Types, variables, fonctions"
   ]
  },
  {
   "cell_type": "markdown",
   "id": "becd8118",
   "metadata": {},
   "source": [
    "## Types\n",
    "\n",
    "Devinez le type des fonctions suivantes et vérifier avec OCaml :\n",
    "```ocaml\n",
    "let f x y = x**y\n",
    "```\n",
    "```ocaml\n",
    "let g x y = x (y + 1)\n",
    "```\n",
    "```ocaml\n",
    "let h x y z = x (3. *. (y z)) + 1\n",
    "```\n",
    "Puis tester ces fonctions sur des arguments de votre choix."
   ]
  },
  {
   "cell_type": "markdown",
   "id": "5d1bf4fd-30d0-48ee-bcc8-2ec1897eb26e",
   "metadata": {},
   "source": [
    "val f : float -> float -> float  \n",
    "val g : (int -> 'a) -> int -> 'a  \n",
    "val h : (float -> int) -> ('a -> float) -> 'a -> int  "
   ]
  },
  {
   "cell_type": "code",
   "execution_count": 1,
   "id": "8f6e04fc-e75f-4db4-a127-6e7af47ca296",
   "metadata": {},
   "outputs": [
    {
     "data": {
      "text/plain": [
       "- : float * int * int = (infinity, 36, 2)\n"
      ]
     },
     "execution_count": 1,
     "metadata": {},
     "output_type": "execute_result"
    }
   ],
   "source": [
    "let f x y = x**y in\n",
    "let g x y = x (y + 1) in\n",
    "let h x y z = x (3. *. (y z)) + 1 in\n",
    "\n",
    "f 1357. 2013. ,\n",
    "g (fun y -> y*y) 5 ,\n",
    "h (fun z -> if z < 0. then -1 else 1) (fun z1 -> if z1 then 42. else 0.) true ;"
   ]
  },
  {
   "cell_type": "markdown",
   "id": "23e9b523",
   "metadata": {},
   "source": [
    "## Tangente hyperbolique\n",
    "\n",
    "Définir en OCaml la fonction $\\tanh : x \\longmapsto \\frac{e^x - e^{-x}}{e^x + e^{-x}}$ en utilisant un seul appel à la fonction `exp : float -> float` de OCaml."
   ]
  },
  {
   "cell_type": "code",
   "execution_count": 2,
   "id": "aa613b1d-2e0e-48c4-a085-9132622f829d",
   "metadata": {},
   "outputs": [
    {
     "data": {
      "text/plain": [
       "- : float = 0.000999999666666862\n"
      ]
     },
     "execution_count": 2,
     "metadata": {},
     "output_type": "execute_result"
    },
    {
     "data": {
      "text/plain": [
       "- : float = 0.0009999996666668\n"
      ]
     },
     "execution_count": 2,
     "metadata": {},
     "output_type": "execute_result"
    }
   ],
   "source": [
    "let tanh2 x = \n",
    "    let e = exp x in\n",
    "    (e -. e**(-.1.))/.(e +. e**(-.1.)) \n",
    "in\n",
    "tanh2 (0.001) ;;\n",
    "tanh (0.001)"
   ]
  },
  {
   "cell_type": "markdown",
   "id": "74da135f",
   "metadata": {},
   "source": [
    "## Géométrie\n",
    "\n",
    "Le type `float*float` désigne un couple de flottant, représentant un point `p` dans $\\mathbb{R}^2$. On peut récupérer les coordonnées de `p` avec `let x, y = p` . Par exemple :"
   ]
  },
  {
   "cell_type": "code",
   "execution_count": 1,
   "id": "7073f5d1",
   "metadata": {
    "execution": {
     "iopub.execute_input": "2021-09-09T19:25:52.406644Z",
     "iopub.status.busy": "2021-09-09T19:25:52.405787Z",
     "iopub.status.idle": "2021-09-09T19:25:52.409142Z",
     "shell.execute_reply": "2021-09-09T19:25:52.408391Z"
    }
   },
   "outputs": [
    {
     "data": {
      "text/plain": [
       "- : float = 2.1\n"
      ]
     },
     "execution_count": 1,
     "metadata": {},
     "output_type": "execute_result"
    }
   ],
   "source": [
    "let p = (2.1, 3.7) in (* exemple de point *)\n",
    "let x, y = p in (* récupération des coordonnées *)\n",
    "x;; (* affichage de x *)"
   ]
  },
  {
   "cell_type": "markdown",
   "id": "898ce016",
   "metadata": {},
   "source": [
    "**Exercice** Écrire une fonction `aire_boule : float -> float` telle que `aire_boule r` renvoie l'aire d'une boule (disque en dimension 3) de rayon `r`, c'est à dire $\\frac{4 \\pi r^3}{3}$. On pourra utiliser `Float.pi`."
   ]
  },
  {
   "cell_type": "code",
   "execution_count": 3,
   "id": "2660533c-42c1-4d39-9e8a-2eabe06c7186",
   "metadata": {},
   "outputs": [
    {
     "data": {
      "text/plain": [
       "- : float = 4188.79020478639086\n"
      ]
     },
     "execution_count": 3,
     "metadata": {},
     "output_type": "execute_result"
    }
   ],
   "source": [
    "let aire_boule r = 4. /. 3. *. Float.pi *. (r**3.) in\n",
    "aire_boule 10."
   ]
  },
  {
   "cell_type": "markdown",
   "id": "18817317",
   "metadata": {},
   "source": [
    "**Exercice** Écrire une fonction `distance : float*float -> float*float -> float` telle que `distance p1 p2` renvoie la distance euclidienne entre les points `p1` et `p2`.  \n",
    "Vérifier que la distance entre $(0, 0)$ et $(1, 1)$ est (approximativement) $\\sqrt{2}$."
   ]
  },
  {
   "cell_type": "code",
   "execution_count": 4,
   "id": "8d78e54a-c2ed-489d-927e-9667241f57be",
   "metadata": {},
   "outputs": [
    {
     "data": {
      "text/plain": [
       "- : float = 1.41421356237309515\n"
      ]
     },
     "execution_count": 4,
     "metadata": {},
     "output_type": "execute_result"
    },
    {
     "data": {
      "text/plain": [
       "- : float = 1.41421356237309515\n"
      ]
     },
     "execution_count": 4,
     "metadata": {},
     "output_type": "execute_result"
    }
   ],
   "source": [
    "let distance (x1,y1) (x2,y2) = \n",
    "    ((x1-.x2)**2. +. (y1-.y2)**2.)**0.5\n",
    "in\n",
    "distance (0.,0.) (1.,1.) ;;\n",
    "2.**0.5;;"
   ]
  },
  {
   "cell_type": "markdown",
   "id": "6be0092c",
   "metadata": {},
   "source": [
    "**Exercice** Écrire une fonction `polaire : float*float -> float*float` qui, étant donné les coordonnées polaires $(r, \\theta)$ d'un point, renvoie ses coordonnées cartésiennes $(x, y)$. On rappelle que $x = r\\cos(\\theta)$ et $y = r\\sin(\\theta)$. On pourra utiliser `cos` et `sin` en OCaml."
   ]
  },
  {
   "cell_type": "code",
   "execution_count": 5,
   "id": "561840dc-90fc-47d2-9b00-53c1901299c4",
   "metadata": {},
   "outputs": [
    {
     "data": {
      "text/plain": [
       "- : float * float = (1.00000000000000022, 1.)\n"
      ]
     },
     "execution_count": 5,
     "metadata": {},
     "output_type": "execute_result"
    }
   ],
   "source": [
    "let polaire (r,x) = \n",
    "    (r*.cos x,r*.sin x)\n",
    "in\n",
    "polaire (2.**0.5,Float.pi/.4.)"
   ]
  },
  {
   "cell_type": "markdown",
   "id": "2992c0fe",
   "metadata": {},
   "source": [
    "**Exercice** Écrire une fonction `milieu : float*float -> float*float -> float*float` telle que `milieu p1 p2` renvoie le milieu du segment d'extrémités `p1` et `p2`."
   ]
  },
  {
   "cell_type": "code",
   "execution_count": 6,
   "id": "17c8465e-2fc9-447a-83ab-39dca204f7f3",
   "metadata": {},
   "outputs": [
    {
     "data": {
      "text/plain": [
       "- : float * float = (1.5, 1.5)\n"
      ]
     },
     "execution_count": 6,
     "metadata": {},
     "output_type": "execute_result"
    }
   ],
   "source": [
    "let milieu (x1,y1) (x2,y2) = \n",
    "    ((x1+.x2)/.2.,(y1+.y2)/.2.)\n",
    "in \n",
    "milieu (1.,1.) (2.,2.)"
   ]
  },
  {
   "cell_type": "markdown",
   "id": "b0d67dd4",
   "metadata": {},
   "source": [
    "**Exercice** Écrire une fonction `parallelogramme : float*float -> float*float -> float*float -> float*float -> bool` telle que `parallelogramme p1 p2 p3 p4` renvoie `true` si les points `p1`, `p1`, `p1`, `p1` forment un parallélogramme, c'est à dire si les côtés opposés sont (approximativement) de même longueur.  \n",
    "On fera attention à ne pas comparer 2 flottants avec `=`, mais regarder à la place si la différence est petite (< 0.001 par exemple)."
   ]
  },
  {
   "cell_type": "code",
   "execution_count": 7,
   "id": "46a4e515",
   "metadata": {
    "tags": []
   },
   "outputs": [
    {
     "data": {
      "text/plain": [
       "- : bool * bool * bool = (false, true, true)\n"
      ]
     },
     "execution_count": 7,
     "metadata": {},
     "output_type": "execute_result"
    }
   ],
   "source": [
    "let parallelogramme (x1,y1) (x2,y2) (x3,y3) (x4,y4) =\n",
    "    let egal l1 l2 = \n",
    "        let p = 0.000001 in\n",
    "        let q = (l1-.l2) /. l1 in\n",
    "        q < p && q > (-.p)\n",
    "    in\n",
    "    egal (x1-.x2) (x4-.x3) && egal  (y1-.y2) (y4-.y3)\n",
    "in\n",
    "(* 3 tests : 1 faux et 2 vrais *) \n",
    "parallelogramme (1.,1.) (2.,3.) (4.,3.) (3.,1.5),\n",
    "parallelogramme (-.2.,-.0.5) (-.1.,3.5) (-.4.,4.5) (-.5.,0.5),\n",
    "parallelogramme (-.0.000000003,-.8000000000.) (-.0.000000002,-.5000000000.)\n",
    "(-.0.000000003,-.1000000000.) (-.0.000000004,-.4000000000.) "
   ]
  },
  {
   "cell_type": "markdown",
   "id": "8a89d768",
   "metadata": {},
   "source": [
    "## Congruence\n",
    "\n",
    "Le but de cet exercice est de calculer $1357^{2013}$ mod $5$ (mais la méthode utilisée s'applique dans un grande nombre d'exercices mathématiques).  \n",
    "On rappelle que les congruences sont compatibles avec la puissance :\n",
    "$$a \\equiv b [n] \\Longrightarrow a^k \\equiv b^k [n]$$\n",
    "\n",
    "1. Soit $k$ un entier positif. Que vaut $2^{4k}$ mod $5$? On pourra calculer des valeurs avec OCaml puis le démontrer mathématiquement.\n",
    "2. Que vaut $1357$ mod $5$? En déduire la valeur de $1357^{2013}$ mod $5$."
   ]
  },
  {
   "cell_type": "markdown",
   "id": "f16f855c-04e0-4435-90ce-5d1be599fbc2",
   "metadata": {},
   "source": [
    "**Réponse 1 :**\n",
    "Avec la fonction `let rec u n = if n = 0 then 1 else 16 * u (n-1)`, on trouve $u(n) \\equiv 1 [5]$ pour les 5 premiers termes.  \n",
    "  \n",
    "  \n",
    "Mais on peut également le démontrer mathématiquement :  \n",
    "$2 \\equiv 2[5]$ donc $2^4 \\equiv 1[5]$ donc $2^{4k} \\equiv 1^k[5]$ donc $2^{4k} \\equiv 1[5]$"
   ]
  },
  {
   "cell_type": "markdown",
   "id": "244052bd-08b9-4e8b-bf74-7588ed071364",
   "metadata": {},
   "source": [
    "**Réponse 2 :** On a : `1357 mod 5` = 2 donc $1357^{2013} \\equiv 2^{2013}[5]$.  \n",
    "De plus, $2^{2013} = 2^{2012}\\times2$ or, selon la question 1, $2^{4k} \\equiv 1[5]$ où k est un entier naturel, donc $2^{2013} \\equiv 1\\times2[5]$ donc $1357^{2013} \\equiv 2[5]$  \n",
    "  \n",
    "*Note : on trouve le même résultat avec $1357^{2021}$*"
   ]
  },
  {
   "cell_type": "markdown",
   "id": "60c42e47",
   "metadata": {},
   "source": [
    "## Nombres aléatoires\n",
    "\n",
    "`Random.int n` permet d'obtenir un entier uniformément au hasard entre 0 et `n - 1` (chacun de ces entiers a la même probabilité $\\frac{1}{n}$ d'être obtenu).  \n",
    "Dans cet exercice, on imagine que l'on possède comme seule source aléatoire un dé à 5 faces (c'est à dire que l'on a seulement le droit d'utiliser `Random.int 5`).\n",
    "\n",
    "1. Calculer `(Random.int 5) + (Random.int 5)` plusieurs fois. Est-ce que le résultat vous semble être un entier uniformément au hasard entre 0 et 8?  \n",
    "2. Quelle est la probabilité d'obtenir `0` avec `(Random.int 5) + (Random.int 5)`? D'obtenir `1`? Quelle est l'entier qui a le plus de chances d'apparaître?\n",
    "3. Comment générer uniformément un entier entre 0 et 24? (C'est à dire passer de 5 possibilités à 25)\n",
    "3. Comment générer uniformément un entier entre 0 et 6? Écrire une fonction pour le faire. On utilisera une méthode par rejection (rejection sampling) : générer dans un espace plus grand et regénérer si la valeur n'est pas dans l'intervalle souhaité.  \n",
    "Pour cela on utilisera une boucle while :\n",
    "```ocaml\n",
    "while ... do\n",
    "    ...\n",
    "done\n",
    "```"
   ]
  },
  {
   "cell_type": "code",
   "execution_count": 8,
   "id": "c06e7074",
   "metadata": {},
   "outputs": [
    {
     "data": {
      "text/plain": [
       "- : int = 4\n"
      ]
     },
     "execution_count": 8,
     "metadata": {},
     "output_type": "execute_result"
    }
   ],
   "source": [
    "(Random.int 5) + (Random.int 5)"
   ]
  },
  {
   "cell_type": "markdown",
   "id": "10e01a14-4b80-4748-8a4f-109686f61e89",
   "metadata": {},
   "source": [
    "**Réponse 1 :** Non, il semble y avoir moins de probabilités d'obtenir un entier proche des extrémités (`0` et `8`)."
   ]
  },
  {
   "cell_type": "markdown",
   "id": "a5102843-0fa2-4c7c-a0c5-bb5354c1e335",
   "metadata": {},
   "source": [
    "**Réponse 2 :** Pour obtenir 0, il n'y a qu'une seule possibilité, c'est que le premier et le deuxième tirage donnent tous les deux 0, donc il y a donc une probabilité de $1/25$ de l'obtenir.\n",
    "Pour obtenir 1, cette probabilité est de $2/25$.\n",
    "L'entier qui a le plus de chances d'apparaître est 4 avec une probabilité de $5/25$ soit $1/5$."
   ]
  },
  {
   "cell_type": "code",
   "execution_count": 9,
   "id": "293122f0-fef0-49cc-b52c-2ef42f7df125",
   "metadata": {},
   "outputs": [
    {
     "data": {
      "text/plain": [
       "- : int = 7\n"
      ]
     },
     "execution_count": 9,
     "metadata": {},
     "output_type": "execute_result"
    }
   ],
   "source": [
    "(* Réponse 3 : *)\n",
    "(Random.int 5)*5 + Random.int 5"
   ]
  },
  {
   "cell_type": "code",
   "execution_count": 10,
   "id": "9b68f53f-0dfb-4d87-ac1b-db821197415c",
   "metadata": {},
   "outputs": [
    {
     "data": {
      "text/plain": [
       "- : int = 4\n"
      ]
     },
     "execution_count": 10,
     "metadata": {},
     "output_type": "execute_result"
    }
   ],
   "source": [
    "(* Réponse 4 : *)\n",
    "let a = ref 7 in\n",
    "while !a > 6 do a := (Random.int 5)*5 + (Random.int 5) done ;\n",
    "!a ;;"
   ]
  }
 ],
 "metadata": {
  "kernelspec": {
   "display_name": "OCaml default",
   "language": "OCaml",
   "name": "ocaml-jupyter"
  },
  "language_info": {
   "codemirror_mode": "text/x-ocaml",
   "file_extension": ".ml",
   "mimetype": "text/x-ocaml",
   "name": "OCaml",
   "nbconverter_exporter": null,
   "pygments_lexer": "OCaml",
   "version": "4.08.1"
  }
 },
 "nbformat": 4,
 "nbformat_minor": 5
}
